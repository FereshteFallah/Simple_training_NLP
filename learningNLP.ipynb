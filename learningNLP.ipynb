{
 "cells": [
  {
   "cell_type": "markdown",
   "id": "ecc39327-4547-4f81-ae77-b8b8917977b0",
   "metadata": {},
   "source": [
    "### Install the NLTK library ###"
   ]
  },
  {
   "cell_type": "code",
   "execution_count": 1,
   "id": "933efaf4-4038-4c8e-85bd-e12cac267aff",
   "metadata": {},
   "outputs": [],
   "source": [
    "import nltk"
   ]
  },
  {
   "cell_type": "code",
   "execution_count": 45,
   "id": "331a8b74-7467-41fd-be26-cb9c6de8edc8",
   "metadata": {},
   "outputs": [
    {
     "name": "stderr",
     "output_type": "stream",
     "text": [
      "[nltk_data] Downloading package punkt_tab to\n",
      "[nltk_data]     /Users/macbook/nltk_data...\n",
      "[nltk_data]   Package punkt_tab is already up-to-date!\n"
     ]
    }
   ],
   "source": [
    "\n",
    "nltk.download('punkt_tab')  #It only needs to be run once.\n",
    "from nltk.tokenize import word_tokenize, sent_tokenize\n"
   ]
  },
  {
   "cell_type": "code",
   "execution_count": 49,
   "id": "ab0e894a-ded7-4775-bb30-d05f1dd77187",
   "metadata": {},
   "outputs": [
    {
     "name": "stdout",
     "output_type": "stream",
     "text": [
      "sentences: ['hello!.', \"I'm fereshte.\", 'I love learning NLP']\n",
      "words: ['hello', '!', '.', 'I', \"'m\", 'fereshte', '.', 'I', 'love', 'learning', 'NLP']\n"
     ]
    }
   ],
   "source": [
    "text = \"hello!. I'm fereshte. I love learning NLP\"\n",
    "\n",
    "#Divide into sentences:\n",
    "sentences = sent_tokenize(text)\n",
    "print(\"sentences:\", sentences)\n",
    "\n",
    "# Divide into words:\n",
    "words = word_tokenize(text)\n",
    "print(\"words:\", words)"
   ]
  },
  {
   "cell_type": "code",
   "execution_count": null,
   "id": "1c945fb9-cb52-4719-aaf6-7cb1484d7e67",
   "metadata": {},
   "outputs": [],
   "source": []
  },
  {
   "cell_type": "markdown",
   "id": "3513f5c7-8398-4cbd-94bc-3d571852fdbd",
   "metadata": {},
   "source": [
    "**Stop words are used frequently in the language but do not add any specific meaning to our analysis.like is,an,a,the,...**"
   ]
  },
  {
   "cell_type": "code",
   "execution_count": 57,
   "id": "7add5edf-9d04-4017-bdf6-6a8cfa8e349a",
   "metadata": {},
   "outputs": [
    {
     "name": "stdout",
     "output_type": "stream",
     "text": [
      "Words without stopwords: ['example', 'showing', 'stop', 'word', 'filtration', '.']\n"
     ]
    },
    {
     "name": "stderr",
     "output_type": "stream",
     "text": [
      "[nltk_data] Downloading package stopwords to\n",
      "[nltk_data]     /Users/macbook/nltk_data...\n",
      "[nltk_data]   Package stopwords is already up-to-date!\n"
     ]
    }
   ],
   "source": [
    "from nltk.corpus import stopwords\n",
    "nltk.download('stopwords')\n",
    "\n",
    "#List of most frequent English words:\n",
    "stop_words_en = stopwords.words('english')\n",
    "\n",
    "sample_text = \"This is an example showing off stop word filtration.\"\n",
    "\n",
    "words = word_tokenize(sample_text)\n",
    "filtered_words = [w for w in words if w.lower() not in stop_words_en]\n",
    "\n",
    "print(\"Words without stopwords:\", filtered_words)\n"
   ]
  },
  {
   "cell_type": "markdown",
   "id": "ca25b9ab-43d6-483a-af81-ae852dfe49ff",
   "metadata": {},
   "source": [
    "### Stemming(Simple etymology of words) ###"
   ]
  },
  {
   "cell_type": "code",
   "execution_count": 68,
   "id": "1ff765c5-ce16-4256-9166-7a0b81701904",
   "metadata": {},
   "outputs": [
    {
     "name": "stdout",
     "output_type": "stream",
     "text": [
      "Roots of words: ['learn', 'learn', 'learner', 'learn']\n"
     ]
    }
   ],
   "source": [
    "from nltk.stem import PorterStemmer\n",
    "#Porter is one of the most famous stemming algorithms in English.\n",
    "stemmer = PorterStemmer()\n",
    "\n",
    "words = [\"learning\", \"learned\", \"learner\", \"learning\"]\n",
    "\n",
    "stems = [stemmer.stem(word) for word in words]\n",
    "print(\"Roots of words:\", stems)\n"
   ]
  },
  {
   "cell_type": "markdown",
   "id": "1cbb7d3a-777e-4295-97c3-2d3fb5b4b553",
   "metadata": {},
   "source": [
    "### Lemmatization(More accurate etymology by understanding the meaning) ###"
   ]
  },
  {
   "cell_type": "code",
   "execution_count": 39,
   "id": "9f358d95-088a-43f8-91ee-84ce704c7e2b",
   "metadata": {},
   "outputs": [
    {
     "name": "stderr",
     "output_type": "stream",
     "text": [
      "[nltk_data] Downloading package wordnet to /Users/macbook/nltk_data...\n",
      "[nltk_data] Downloading package omw-1.4 to /Users/macbook/nltk_data...\n"
     ]
    },
    {
     "name": "stdout",
     "output_type": "stream",
     "text": [
      "good\n",
      "run\n"
     ]
    }
   ],
   "source": [
    "from nltk.stem import WordNetLemmatizer\n",
    "nltk.download('wordnet')\n",
    "nltk.download('omw-1.4')  \n",
    "#This tool is a data source that provides synonyms and related words in different languages.\n",
    "#Version 1.4 is the fourth version of this resource in nltk.\n",
    "\n",
    "lemmatizer = WordNetLemmatizer()\n",
    "\n",
    "print(lemmatizer.lemmatize(\"better\", pos=\"a\"))  # adjective\n",
    "print(lemmatizer.lemmatize(\"running\", pos=\"v\"))  # verb\n"
   ]
  },
  {
   "cell_type": "markdown",
   "id": "4a2e3442-aa16-4888-ad50-40680e483a83",
   "metadata": {},
   "source": [
    "### POS Tagging( Recognize the type of words) ###"
   ]
  },
  {
   "cell_type": "code",
   "execution_count": 72,
   "id": "19940ac3-5c1e-4a1f-b72e-bc9d0c2f901e",
   "metadata": {},
   "outputs": [
    {
     "name": "stdout",
     "output_type": "stream",
     "text": [
      "POS Tags: [('Fereshte', 'NNP'), ('is', 'VBZ'), ('learning', 'VBG'), ('natural', 'JJ'), ('language', 'NN'), ('processing', 'NN'), ('.', '.')]\n"
     ]
    },
    {
     "name": "stderr",
     "output_type": "stream",
     "text": [
      "[nltk_data] Downloading package averaged_perceptron_tagger_eng to\n",
      "[nltk_data]     /Users/macbook/nltk_data...\n",
      "[nltk_data]   Package averaged_perceptron_tagger_eng is already up-to-\n",
      "[nltk_data]       date!\n"
     ]
    }
   ],
   "source": [
    "nltk.download('averaged_perceptron_tagger_eng')\n",
    "#This line of code is used to download the POS Tagging model in NLTK.\n",
    "\n",
    "\n",
    "text = \"Fereshte is learning natural language processing.\"\n",
    "\n",
    "tokens = word_tokenize(text)\n",
    "tags = nltk.pos_tag(tokens)\n",
    "\n",
    "print(\"POS Tags:\", tags)\n"
   ]
  },
  {
   "cell_type": "code",
   "execution_count": null,
   "id": "94d246d7-ecce-48ba-a2ca-8b0eaa627f55",
   "metadata": {},
   "outputs": [],
   "source": [
    "#NNP: Proper Noun, Singular → \"Fereshte\"\n",
    "#VBZ: verb (Verb, 3rd person singular present) → \"is\"\n",
    "#VBG: Verb (Verb, gerund/present participle) → \"learning\"\n",
    "#JJ: Adjective → \"natural\"\n",
    "#NN: Noun, singular → \"language\"\n",
    "#NN: Noun, singular → \"processing\""
   ]
  }
 ],
 "metadata": {
  "kernelspec": {
   "display_name": "Python [conda env:base] *",
   "language": "python",
   "name": "conda-base-py"
  },
  "language_info": {
   "codemirror_mode": {
    "name": "ipython",
    "version": 3
   },
   "file_extension": ".py",
   "mimetype": "text/x-python",
   "name": "python",
   "nbconvert_exporter": "python",
   "pygments_lexer": "ipython3",
   "version": "3.12.7"
  }
 },
 "nbformat": 4,
 "nbformat_minor": 5
}
